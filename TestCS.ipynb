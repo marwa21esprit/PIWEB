{
 "cells": [
  {
   "cell_type": "code",
   "execution_count": 130,
   "metadata": {
    "id": "g0NOu8w9slg3"
   },
   "outputs": [],
   "source": [
    "#declaration de f et g et dg\n",
    "def g(x):\n",
    "    return x**2 - 3\n",
    "def f(x):\n",
    "    return x - g(x)\n",
    "def dg(x):\n",
    "    return 2*x"
   ]
  },
  {
   "cell_type": "code",
   "execution_count": 131,
   "metadata": {
    "id": "nnUdgtWKsqsd"
   },
   "outputs": [],
   "source": [
    "def pt_fixe(x0, r, maximum):\n",
    "    xn = 0 # Initialise un compteur d'itérations xn à zéro\n",
    "    while xn < maximum:\n",
    "        x1 = f(x0) # Calcule la prochaine estimation x1 du point fixe en utilisant la fonction f appliquée à la valeur courante x0.\n",
    "        if abs(x1 - x0) < r:#Vérifie si la différence absolue entre la nouvelle estimation x1 et l'estimation précédente x0 est inférieure à la tolérance r\n",
    "            print(f\"La méthode a convergé après {xn+1} itérations.\")\n",
    "            return x1\n",
    "        x0 = x1 #Met à jour l'estimation précédente x0 avec la nouvelle estimation x1 pour la prochaine itération\n",
    "        xn += 1\n",
    "    print(\"La méthode n'a pas convergé dans le nombre maximum d'itérations.\")\n",
    "    return None"
   ]
  },
  {
   "cell_type": "code",
   "execution_count": 132,
   "metadata": {
    "colab": {
     "base_uri": "https://localhost:8080/"
    },
    "id": "nKgbRBsZtOKT",
    "outputId": "f56b24ac-5388-48da-ef98-88359821e72b"
   },
   "outputs": [
    {
     "name": "stdout",
     "output_type": "stream",
     "text": [
      "La méthode n'a pas convergé dans le nombre maximum d'itérations.\n",
      " Pas de racine trouvé avec cette tolérance !!!\n"
     ]
    }
   ],
   "source": [
    "x0 = 1\n",
    "r = 1e-2\n",
    "maximum = 5\n",
    "res = pt_fixe(x0, r, maximum)\n",
    "if res is not None:\n",
    "    print(\"La Racine :\", res)\n",
    "else:\n",
    "    print(\" Pas de racine trouvé avec cette tolérance !!!\")"
   ]
  },
  {
   "cell_type": "code",
   "execution_count": 133,
   "metadata": {
    "id": "_hWoCc6A2eHO"
   },
   "outputs": [],
   "source": [
    "def point_fix_relax(f, x0, w, ep=1e-7, maximum=1000):\n",
    "    x = x0\n",
    "    iter = 0\n",
    "    while abs(f(x) - x) > ep and iter < maximum:\n",
    "        x = w * f(x) + (1-w)*x\n",
    "        iter += 1\n",
    "    return x, iter"
   ]
  },
  {
   "cell_type": "code",
   "execution_count": 134,
   "metadata": {
    "colab": {
     "base_uri": "https://localhost:8080/"
    },
    "id": "703jQs_u4WSj",
    "outputId": "3ba13dbd-4930-4cf6-d875-bb1d8196e53a"
   },
   "outputs": [
    {
     "name": "stdout",
     "output_type": "stream",
     "text": [
      "Pour x0 = 1:\n",
      "  Pour w = 0.1: Nombre d'itérations nécessaires = 1.7320508304737874, Solution = 38\n",
      "  Pour w = 0.2: Nombre d'itérations nécessaires = 1.7320508213882482, Solution = 14\n",
      "  Pour w = 0.3: Nombre d'itérations nécessaires = 1.732050809832844, Solution = 6\n",
      "  Pour w = 0.4: Nombre d'itérations nécessaires = 1.7320507794396933, Solution = 17\n",
      "  Pour w = 0.5: Nombre d'itérations nécessaires = 1.7320508325717001, Solution = 52\n",
      "  Pour w = 0.6: Nombre d'itérations nécessaires = 2.1380711874576974, Solution = 1000\n",
      "  Pour w = 0.7: Nombre d'itérations nécessaires = 2.40795065720015, Solution = 1000\n",
      "  Pour w = 0.8: Nombre d'itérations nécessaires = 1.997975778890864, Solution = 1000\n",
      "Pour x0 = 2:\n",
      "  Pour w = 0.1: Nombre d'itérations nécessaires = 1.7320508304737874, Solution = 38\n",
      "  Pour w = 0.2: Nombre d'itérations nécessaires = 1.7320508213882482, Solution = 14\n",
      "  Pour w = 0.3: Nombre d'itérations nécessaires = 1.732050809832844, Solution = 6\n",
      "  Pour w = 0.4: Nombre d'itérations nécessaires = 1.7320507794396933, Solution = 17\n",
      "  Pour w = 0.5: Nombre d'itérations nécessaires = 1.7320508325717001, Solution = 52\n",
      "  Pour w = 0.6: Nombre d'itérations nécessaires = 2.1380711874576974, Solution = 1000\n",
      "  Pour w = 0.7: Nombre d'itérations nécessaires = 2.40795065720015, Solution = 1000\n",
      "  Pour w = 0.8: Nombre d'itérations nécessaires = 1.997975778890864, Solution = 1000\n",
      "Pour x0 = 4:\n",
      "  Pour w = 0.1: Nombre d'itérations nécessaires = 1.7320508304737874, Solution = 38\n",
      "  Pour w = 0.2: Nombre d'itérations nécessaires = 1.7320508213882482, Solution = 14\n",
      "  Pour w = 0.3: Nombre d'itérations nécessaires = 1.732050809832844, Solution = 6\n",
      "  Pour w = 0.4: Nombre d'itérations nécessaires = 1.7320507794396933, Solution = 17\n",
      "  Pour w = 0.5: Nombre d'itérations nécessaires = 1.7320508325717001, Solution = 52\n",
      "  Pour w = 0.6: Nombre d'itérations nécessaires = 2.1380711874576974, Solution = 1000\n",
      "  Pour w = 0.7: Nombre d'itérations nécessaires = 2.40795065720015, Solution = 1000\n",
      "  Pour w = 0.8: Nombre d'itérations nécessaires = 1.997975778890864, Solution = 1000\n",
      "Pour x0 = 8:\n",
      "  Pour w = 0.1: Nombre d'itérations nécessaires = 1.7320508304737874, Solution = 38\n",
      "  Pour w = 0.2: Nombre d'itérations nécessaires = 1.7320508213882482, Solution = 14\n",
      "  Pour w = 0.3: Nombre d'itérations nécessaires = 1.732050809832844, Solution = 6\n",
      "  Pour w = 0.4: Nombre d'itérations nécessaires = 1.7320507794396933, Solution = 17\n",
      "  Pour w = 0.5: Nombre d'itérations nécessaires = 1.7320508325717001, Solution = 52\n",
      "  Pour w = 0.6: Nombre d'itérations nécessaires = 2.1380711874576974, Solution = 1000\n",
      "  Pour w = 0.7: Nombre d'itérations nécessaires = 2.40795065720015, Solution = 1000\n",
      "  Pour w = 0.8: Nombre d'itérations nécessaires = 1.997975778890864, Solution = 1000\n"
     ]
    }
   ],
   "source": [
    "\n",
    "tol = 1e-7\n",
    "maximum = 1000\n",
    "ws = [i/10 for i in range(1, 9)]  # crée une liste ws contenant des valeurs de paramètre w allant de 0.1 à 0.8 par incréments de 0.1.\n",
    "x0s = [1, 2, 4, 8]\n",
    "\n",
    "# Calculs\n",
    "for x0 in x0s:\n",
    "    print(f\"Pour x0 = {x0}:\") #Cette ligne imprime la valeur actuelle de x0 pour afficher les résultats associés.\n",
    "    for w in ws:\n",
    "        iterations, solution = point_fix_relax(f, 2, w) #récupère le nombre d'itérations et la solution approximative retournés par la fonction.\n",
    "        if iterations is not None:\n",
    "            print(f\"  Pour w = {w}: Nombre d'itérations nécessaires = {iterations}, Solution = {solution}\")\n",
    "        else:\n",
    "            print(f\"  Pour w = {w}: La méthode n'a pas convergé dans le nombre maximal d'itérations.\")\n"
   ]
  },
  {
   "cell_type": "code",
   "execution_count": 128,
   "metadata": {
    "id": "QhwDVgiH0C8B"
   },
   "outputs": [],
   "source": [
    "import sympy as sp\n",
    "\n",
    "x = sp.symbols('x') #Crée un symbole x qui peut être utilisé pour représenter des variables symboliques dans les expressions mathématiques.\n",
    "g = x**2 - 3\n",
    "dg = sp.diff(g, x) # Calcule la dérivée de g par rapport à x\n",
    "dg = sp.lambdify(x, dg, 'numpy') #Convertit la fonction dérivée dg en une fonction lambda"
   ]
  },
  {
   "cell_type": "code",
   "execution_count": 135,
   "metadata": {
    "id": "TJRvVnMv3Hl2"
   },
   "outputs": [],
   "source": [
    "def newton(g, dg, x0, ep=1e-7, maximum=1000):\n",
    "    x = x0\n",
    "    for i in range(maximum): #Démarre une boucle for qui s'exécute jusqu'au nombre maximal d'itérations spécifié\n",
    "        x_nouveau = x - g(x) / dg(x)\n",
    "        residue = abs(x_nouveau - x) # Calcule la différence absolue entre la nouvelle estimation et l'estimation précédente.\n",
    "        if residue < ep: #Vérifie si la différence entre les deux estimations est inférieure à la tolérance ep, ce qui indique la convergence.\n",
    "            return i+1, x_nouveau\n",
    "        x = x_nouveau #Met à jour la valeur de x\n",
    "    return maximum, x_nouveau"
   ]
  },
  {
   "cell_type": "code",
   "execution_count": 137,
   "metadata": {
    "colab": {
     "base_uri": "https://localhost:8080/"
    },
    "id": "FY4BWt9mAVeL",
    "outputId": "1ca5a25a-0e4d-4952-9a8e-d0ebd964458b"
   },
   "outputs": [
    {
     "name": "stdout",
     "output_type": "stream",
     "text": [
      "Convergence en 5 itérations avec une valeur de 1.7320508\n"
     ]
    }
   ],
   "source": [
    "# trouver une approximation d'une racine de la fonction g(x) en utilisant la méthode de Newton\n",
    "x0 = 1\n",
    "iteration, result = newton(g, dg, x0)\n",
    "print(f\"Convergence en {iteration} itérations avec une valeur de {result:.7f}\")"
   ]
  }
 ],
 "metadata": {
  "colab": {
   "provenance": []
  },
  "kernelspec": {
   "display_name": "Python 3 (ipykernel)",
   "language": "python",
   "name": "python3"
  },
  "language_info": {
   "codemirror_mode": {
    "name": "ipython",
    "version": 3
   },
   "file_extension": ".py",
   "mimetype": "text/x-python",
   "name": "python",
   "nbconvert_exporter": "python",
   "pygments_lexer": "ipython3",
   "version": "3.11.5"
  }
 },
 "nbformat": 4,
 "nbformat_minor": 1
}
