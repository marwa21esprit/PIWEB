{
 "cells": [
  {
   "cell_type": "markdown",
   "id": "928f46b1",
   "metadata": {},
   "source": [
    "# Exercice 1:"
   ]
  },
  {
   "cell_type": "code",
   "execution_count": null,
   "id": "b068b1ae",
   "metadata": {},
   "outputs": [],
   "source": [
    "def g(x):\n",
    "    return x**2 - 3\n",
    "\n",
    "\n",
    "def f(x):\n",
    "    return x - g(x)\n",
    "\n",
    "def dg(x):\n",
    "    return 2*x"
   ]
  },
  {
   "cell_type": "markdown",
   "id": "49f0f02e",
   "metadata": {},
   "source": [
    "1-Point Fixe:"
   ]
  },
  {
   "cell_type": "code",
   "execution_count": null,
   "id": "7126c03a",
   "metadata": {},
   "outputs": [],
   "source": [
    "def point_fixe(x0, err, max_iter):\n",
    "    n = 0\n",
    "    while n < max_iter:\n",
    "        x1 = f(x0)\n",
    "        if abs(x1 - x0) < err:\n",
    "            print(f\"La méthode a convergé après {n+1} itérations.\")\n",
    "            return x1\n",
    "        x0 = x1\n",
    "        n += 1\n",
    "    print(\"La méthode n'a pas convergé dans le nombre maximum d'itérations.\")\n",
    "    return None"
   ]
  },
  {
   "cell_type": "code",
   "execution_count": null,
   "id": "189e9e17",
   "metadata": {},
   "outputs": [],
   "source": [
    "x0 = 1 \n",
    "err = 1e-2  \n",
    "max_iter = 5\n",
    "\n",
    "resultat = point_fixe(x0, err, max_iter)\n",
    "if resultat is not None:\n",
    "    print(\"La valeur de la racine est environ égale à :\", resultat)\n",
    "else:\n",
    "    print(\"Impossible de trouver la racine avec la tolérance spécifiée.\")"
   ]
  },
  {
   "cell_type": "markdown",
   "id": "9b76c21f",
   "metadata": {},
   "source": [
    "2- Point fixe avec relaxation :"
   ]
  },
  {
   "cell_type": "code",
   "execution_count": null,
   "id": "0950ee0a",
   "metadata": {},
   "outputs": [],
   "source": [
    "def point_fixe_relaxation(f, x0, w, epsilon=1e-7, max_iter=1000):\n",
    "    x = x0\n",
    "    for i in range(max_iter):\n",
    "        x_next = w * f(x) + (1 - w) * x\n",
    "        if abs(x_next - x) < epsilon:\n",
    "            return x_next, i + 1\n",
    "        x = x_next\n",
    "    return None, max_iter"
   ]
  },
  {
   "cell_type": "code",
   "execution_count": null,
   "id": "5a0cfe9e",
   "metadata": {},
   "outputs": [],
   "source": [
    "tol = 1e-7  \n",
    "max_iter = 1000  \n",
    "w_values = [i/10 for i in range(1, 9)]  \n",
    "x0_values = [1, 2, 4, 8]  \n",
    "\n",
    "\n",
    "for x0 in x0_values:\n",
    "    print(f\"Pour x0 = {x0}:\")\n",
    "    for w in w_values:\n",
    "        iterations, solution = point_fixe_relaxation(f, 2, w)\n",
    "        if iterations is not None:\n",
    "            print(f\"  Pour w = {w}: Nombre d'itérations nécessaires = {iterations}, Solution = {solution}\")\n",
    "        else:\n",
    "            print(f\"  Pour w = {w}: La méthode n'a pas convergé dans le nombre maximal d'itérations.\")\n"
   ]
  },
  {
   "cell_type": "markdown",
   "id": "d7c03eb7",
   "metadata": {},
   "source": [
    "3-Newton:"
   ]
  },
  {
   "cell_type": "code",
   "execution_count": null,
   "id": "eee26985",
   "metadata": {},
   "outputs": [],
   "source": [
    "def newton(g, dg, x0, epsilon=1e-7, max_iterations=1000):\n",
    "    x_old = x0\n",
    "    for i in range(max_iterations):\n",
    "        x_new = x_old - g(x_old) / dg(x_old)\n",
    "        residue = abs(x_new - x_old)\n",
    "        if residue < epsilon:\n",
    "            return i+1, x_new\n",
    "        x_old = x_new\n",
    "    return max_iterations, x_new"
   ]
  },
  {
   "cell_type": "code",
   "execution_count": null,
   "id": "f232c2c5",
   "metadata": {},
   "outputs": [],
   "source": [
    "x0 = 1\n",
    "iterations, result = newton(g, dg, x0)\n",
    "print(f\"Convergence en {iterations} itérations avec une valeur de {result:.7f}\")"
   ]
  },
  {
   "cell_type": "code",
   "execution_count": null,
   "id": "6ae9a393",
   "metadata": {},
   "outputs": [],
   "source": []
  },
  {
   "cell_type": "code",
   "execution_count": null,
   "id": "f9f48037",
   "metadata": {},
   "outputs": [],
   "source": []
  },
  {
   "cell_type": "code",
   "execution_count": null,
   "id": "7f00aba9",
   "metadata": {},
   "outputs": [],
   "source": []
  }
 ],
 "metadata": {
  "kernelspec": {
   "display_name": "Python 3 (ipykernel)",
   "language": "python",
   "name": "python3"
  },
  "language_info": {
   "codemirror_mode": {
    "name": "ipython",
    "version": 3
   },
   "file_extension": ".py",
   "mimetype": "text/x-python",
   "name": "python",
   "nbconvert_exporter": "python",
   "pygments_lexer": "ipython3",
   "version": "3.11.5"
  }
 },
 "nbformat": 4,
 "nbformat_minor": 5
}
